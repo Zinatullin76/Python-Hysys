{
 "cells": [
  {
   "cell_type": "code",
   "execution_count": 4,
   "metadata": {},
   "outputs": [],
   "source": [
    "from PythonHysysBridge import HysysBridge as brg"
   ]
  },
  {
   "cell_type": "code",
   "execution_count": 5,
   "metadata": {},
   "outputs": [
    {
     "ename": "AttributeError",
     "evalue": "module 'PythonHysysBridge' has no attribute 'HysysBridge'",
     "output_type": "error",
     "traceback": [
      "\u001b[1;31m---------------------------------------------------------------------------\u001b[0m",
      "\u001b[1;31mAttributeError\u001b[0m                            Traceback (most recent call last)",
      "Cell \u001b[1;32mIn[5], line 1\u001b[0m\n\u001b[1;32m----> 1\u001b[0m Table, Solver \u001b[38;5;241m=\u001b[39m \u001b[43mbrg\u001b[49m\u001b[38;5;241;43m.\u001b[39;49m\u001b[43mHysysBridge\u001b[49m(\u001b[38;5;124m'\u001b[39m\u001b[38;5;124mTable\u001b[39m\u001b[38;5;124m'\u001b[39m)\n",
      "\u001b[1;31mAttributeError\u001b[0m: module 'PythonHysysBridge' has no attribute 'HysysBridge'"
     ]
    }
   ],
   "source": [
    "Table, Solver = brg.HysysBridge('Table')"
   ]
  },
  {
   "cell_type": "code",
   "execution_count": 3,
   "metadata": {},
   "outputs": [
    {
     "ename": "com_error",
     "evalue": "(-2147352567, 'Ошибка.', (0, None, None, None, 0, -2147467259), None)",
     "output_type": "error",
     "traceback": [
      "\u001b[1;31m---------------------------------------------------------------------------\u001b[0m",
      "\u001b[1;31mcom_error\u001b[0m                                 Traceback (most recent call last)",
      "Cell \u001b[1;32mIn[3], line 2\u001b[0m\n\u001b[0;32m      1\u001b[0m FirstColumnTempUp, FirstColumnTempBot \u001b[38;5;241m=\u001b[39m Table\u001b[38;5;241m.\u001b[39mCell(\u001b[38;5;241m0\u001b[39m,\u001b[38;5;241m0\u001b[39m)\u001b[38;5;241m.\u001b[39mCellValue, Table\u001b[38;5;241m.\u001b[39mCell(\u001b[38;5;241m0\u001b[39m,\u001b[38;5;241m1\u001b[39m)\u001b[38;5;241m.\u001b[39mCellValue\n\u001b[1;32m----> 2\u001b[0m SecColumnTempUp, SecColumnTempBot \u001b[38;5;241m=\u001b[39m \u001b[43mTable\u001b[49m\u001b[38;5;241;43m.\u001b[39;49m\u001b[43mCell\u001b[49m\u001b[43m(\u001b[49m\u001b[38;5;241;43m1\u001b[39;49m\u001b[43m,\u001b[49m\u001b[38;5;241;43m0\u001b[39;49m\u001b[43m)\u001b[49m\u001b[38;5;241;43m.\u001b[39;49m\u001b[43mCellValue\u001b[49m, Table\u001b[38;5;241m.\u001b[39mCell(\u001b[38;5;241m1\u001b[39m,\u001b[38;5;241m1\u001b[39m)\u001b[38;5;241m.\u001b[39mCellValue\n\u001b[0;32m      3\u001b[0m ReidVP, MassFlow \u001b[38;5;241m=\u001b[39m Table\u001b[38;5;241m.\u001b[39mCell(\u001b[38;5;241m0\u001b[39m,\u001b[38;5;241m2\u001b[39m)\u001b[38;5;241m.\u001b[39mCellValue, Table\u001b[38;5;241m.\u001b[39mCell(\u001b[38;5;241m0\u001b[39m,\u001b[38;5;241m4\u001b[39m)\u001b[38;5;241m.\u001b[39mCellValue\n",
      "File \u001b[1;32m~\\AppData\\Roaming\\Python\\Python312\\site-packages\\win32com\\client\\dynamic.py:627\u001b[0m, in \u001b[0;36mCDispatch.__getattr__\u001b[1;34m(self, attr)\u001b[0m\n\u001b[0;32m    623\u001b[0m debug_attr_print(\n\u001b[0;32m    624\u001b[0m     \u001b[38;5;124m\"\u001b[39m\u001b[38;5;124mGetting property Id 0x\u001b[39m\u001b[38;5;132;01m%x\u001b[39;00m\u001b[38;5;124m from OLE object\u001b[39m\u001b[38;5;124m\"\u001b[39m \u001b[38;5;241m%\u001b[39m retEntry\u001b[38;5;241m.\u001b[39mdispid\n\u001b[0;32m    625\u001b[0m )\n\u001b[0;32m    626\u001b[0m \u001b[38;5;28;01mtry\u001b[39;00m:\n\u001b[1;32m--> 627\u001b[0m     ret \u001b[38;5;241m=\u001b[39m \u001b[38;5;28;43mself\u001b[39;49m\u001b[38;5;241;43m.\u001b[39;49m\u001b[43m_oleobj_\u001b[49m\u001b[38;5;241;43m.\u001b[39;49m\u001b[43mInvoke\u001b[49m\u001b[43m(\u001b[49m\u001b[43mretEntry\u001b[49m\u001b[38;5;241;43m.\u001b[39;49m\u001b[43mdispid\u001b[49m\u001b[43m,\u001b[49m\u001b[43m \u001b[49m\u001b[38;5;241;43m0\u001b[39;49m\u001b[43m,\u001b[49m\u001b[43m \u001b[49m\u001b[43minvoke_type\u001b[49m\u001b[43m,\u001b[49m\u001b[43m \u001b[49m\u001b[38;5;241;43m1\u001b[39;49m\u001b[43m)\u001b[49m\n\u001b[0;32m    628\u001b[0m \u001b[38;5;28;01mexcept\u001b[39;00m pythoncom\u001b[38;5;241m.\u001b[39mcom_error \u001b[38;5;28;01mas\u001b[39;00m details:\n\u001b[0;32m    629\u001b[0m     \u001b[38;5;28;01mif\u001b[39;00m details\u001b[38;5;241m.\u001b[39mhresult \u001b[38;5;129;01min\u001b[39;00m ERRORS_BAD_CONTEXT:\n\u001b[0;32m    630\u001b[0m         \u001b[38;5;66;03m# May be a method.\u001b[39;00m\n",
      "\u001b[1;31mcom_error\u001b[0m: (-2147352567, 'Ошибка.', (0, None, None, None, 0, -2147467259), None)"
     ]
    }
   ],
   "source": [
    "FirstColumnTempUp, FirstColumnTempBot = Table.Cell(0,0).CellValue, Table.Cell(0,1).CellValue\n",
    "SecColumnTempUp, SecColumnTempBot = Table.Cell(1,0).CellValue, Table.Cell(1,1).CellValue\n",
    "ReidVP, MassFlow = Table.Cell(0,2).CellValue, Table.Cell(0,4).CellValue\n",
    "\n"
   ]
  },
  {
   "cell_type": "code",
   "execution_count": 49,
   "metadata": {},
   "outputs": [
    {
     "name": "stdout",
     "output_type": "stream",
     "text": [
      "Колонна деэтанизации. Температура верха: -15.370504752640972 --- низа: 99.19729020858054\n",
      "Колонна стабилизации. Температура верха: 100.0 --- низа: 175.0\n",
      "ДНП: 60.91 КПа --- Массовый расход стабильного конденсата: 500.88 кг/час\n"
     ]
    }
   ],
   "source": [
    "print(f'Колонна деэтанизации. Температура верха: {FirstColumnTempUp} --- низа: {FirstColumnTempBot}')\n",
    "print(f'Колонна стабилизации. Температура верха: {SecColumnTempUp} --- низа: {SecColumnTempBot}')\n",
    "print(f'ДНП: {round(ReidVP,2)} КПа --- Массовый расход стабильного конденсата: {round(MassFlow*3600,2)} кг/час')"
   ]
  },
  {
   "cell_type": "code",
   "execution_count": 74,
   "metadata": {},
   "outputs": [],
   "source": [
    "base = []\n",
    "def func(x):\n",
    "    Solver.CanSolve = False\n",
    "    t1, t2, t3, t4 = x[0], x[1], x[2], x[3]\n",
    "    base.append((t1, t2, t3, t4))\n",
    "    Table.Cell(0,0).CellValue = t1\n",
    "    Table.Cell(0,1).CellValue = t2\n",
    "    Table.Cell(0,2).CellValue = t3\n",
    "    Table.Cell(0,3).CellValue = t3+t4\n",
    "    start_time = time.time()\n",
    "    Solver.CanSolve = True\n",
    "    \n",
    "    if time.time()-start_time>1 or Table.Cell(1,0).CellValue > 66.7:\n",
    "        Solver.CanSolve = False\n",
    "        return 10000\n",
    "    else:\n",
    "        return 10000-Table.Cell(1,1).CellValue*3600\n",
    "\n",
    "bounds = [(-50,10), (90,200), (1000,2000), (100, 1000)]\n",
    "res = ev(func, bounds, maxiter=10, disp=True)"
   ]
  },
  {
   "cell_type": "code",
   "execution_count": 72,
   "metadata": {},
   "outputs": [],
   "source": [
    "start_time = time.time()"
   ]
  },
  {
   "cell_type": "code",
   "execution_count": 73,
   "metadata": {},
   "outputs": [
    {
     "data": {
      "text/plain": [
       "3.0075578689575195"
      ]
     },
     "execution_count": 73,
     "metadata": {},
     "output_type": "execute_result"
    }
   ],
   "source": [
    "time.time()-start_time"
   ]
  },
  {
   "cell_type": "code",
   "execution_count": 64,
   "metadata": {},
   "outputs": [
    {
     "data": {
      "text/plain": [
       "[(-3.90134214410892, 127.249439717326, 1865.5794207294468, 718.0643415135035)]"
      ]
     },
     "execution_count": 64,
     "metadata": {},
     "output_type": "execute_result"
    }
   ],
   "source": [
    "base"
   ]
  }
 ],
 "metadata": {
  "kernelspec": {
   "display_name": "Python 3",
   "language": "python",
   "name": "python3"
  },
  "language_info": {
   "codemirror_mode": {
    "name": "ipython",
    "version": 3
   },
   "file_extension": ".py",
   "mimetype": "text/x-python",
   "name": "python",
   "nbconvert_exporter": "python",
   "pygments_lexer": "ipython3",
   "version": "3.12.3"
  }
 },
 "nbformat": 4,
 "nbformat_minor": 2
}
